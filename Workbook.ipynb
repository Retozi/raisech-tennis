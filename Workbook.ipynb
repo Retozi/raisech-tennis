{
 "cells": [
  {
   "cell_type": "code",
   "execution_count": 1,
   "metadata": {
    "collapsed": false
   },
   "outputs": [],
   "source": [
    "import gzip\n",
    "import json\n",
    "from statistics import median \n",
    "\n",
    "with gzip.open('data.gz', 'rt') as f:\n",
    "    players = json.load(f)\n",
    "\n",
    "FEDERER = 'FedererR.'\n",
    "DJOKER = 'DjokovicN.'"
   ]
  },
  {
   "cell_type": "markdown",
   "metadata": {},
   "source": [
    "Beispiel eines match records\n",
    "```\n",
    "{'atp': 3,\n",
    " 'atpRank': 6.0,\n",
    " 'bestOf': 3,\n",
    " 'comment': 'Completed',\n",
    " 'court': 'Outdoor',\n",
    " 'date': '2002-12-31T00:00:00.000Z',\n",
    " 'lostSets': 1,\n",
    " 'odds': 1.1010000000000002,\n",
    " 'oppAtpRank': 139,\n",
    " 'oppOdds': 5.033333333333333,\n",
    " 'round': '1st Round',\n",
    " 'surface': 'Hard',\n",
    " 'tournament': 'Qatar Exxon Mobil Open',\n",
    " 'wonSets': 2}\n",
    "```"
   ]
  },
  {
   "cell_type": "markdown",
   "metadata": {},
   "source": [
    "## Berechnen von median odds gegen non top5 oponent"
   ]
  },
  {
   "cell_type": "code",
   "execution_count": 5,
   "metadata": {
    "collapsed": false
   },
   "outputs": [
    {
     "name": "stdout",
     "output_type": "stream",
     "text": [
      "Count: 83 odds: 12.3 Gegner rank: 45\n"
     ]
    }
   ],
   "source": [
    "odds = []\n",
    "rank = []\n",
    "count = 0\n",
    "\n",
    "for m in players[FEDERER]:\n",
    "    if m['date'][:4] == '2006' and m['oppAtpRank'] > 5:\n",
    "        count = count + 1\n",
    "        rank.append(m['oppAtpRank'])\n",
    "        odds.append(m['oppOdds'])\n",
    "\n",
    "print('Count:', count, 'odds:', median(odds), 'Gegner rank:', median(rank))"
   ]
  }
 ],
 "metadata": {
  "kernelspec": {
   "display_name": "Python 3",
   "language": "python",
   "name": "python3"
  },
  "language_info": {
   "codemirror_mode": {
    "name": "ipython",
    "version": 3
   },
   "file_extension": ".py",
   "mimetype": "text/x-python",
   "name": "python",
   "nbconvert_exporter": "python",
   "pygments_lexer": "ipython3",
   "version": "3.4.3"
  }
 },
 "nbformat": 4,
 "nbformat_minor": 0
}
