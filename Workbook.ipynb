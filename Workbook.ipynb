{
 "cells": [
  {
   "cell_type": "code",
   "execution_count": 35,
   "metadata": {
    "collapsed": false
   },
   "outputs": [],
   "source": [
    "import gzip\n",
    "import json\n",
    "from statistics import median \n",
    "\n",
    "def mean(l):\n",
    "    return sum(l) / len(l)\n",
    "\n",
    "with gzip.open('data.gz', 'rt') as f:\n",
    "    players = json.load(f)\n",
    "\n",
    "FEDERER = 'FedererR.'\n",
    "DJOKER = 'DjokovicN.'"
   ]
  },
  {
   "cell_type": "markdown",
   "metadata": {},
   "source": [
    "Beispiel eines match records\n",
    "```\n",
    "{'atp': 3,\n",
    " 'atpRank': 6.0,\n",
    " 'bestOf': 3,\n",
    " 'comment': 'Completed',\n",
    " 'court': 'Outdoor',\n",
    " 'date': '2002-12-31T00:00:00.000Z',\n",
    " 'lostSets': 1,\n",
    " 'odds': 1.1010000000000002,\n",
    " 'oppAtpRank': 139,\n",
    " 'oppOdds': 5.033333333333333,\n",
    " 'round': '1st Round',\n",
    " 'surface': 'Hard',\n",
    " 'tournament': 'Qatar Exxon Mobil Open',\n",
    " 'wonSets': 2,\n",
    " 'won': True}\n",
    "```"
   ]
  },
  {
   "cell_type": "markdown",
   "metadata": {},
   "source": [
    "## Berechnen von median odds gegen non top5 oponent"
   ]
  },
  {
   "cell_type": "code",
   "execution_count": 55,
   "metadata": {
    "collapsed": false
   },
   "outputs": [
    {
     "name": "stdout",
     "output_type": "stream",
     "text": [
      "Count: 15 odds: 9.0 Gegner rank: 7 winrate: 0.0\n",
      "Count: 20 odds: 6.289999999999999 Gegner rank: 7.5 winrate: 0.05\n"
     ]
    }
   ],
   "source": [
    "def relative_strength(matches, year):\n",
    "    odds = []\n",
    "    rank = []\n",
    "    count = 0\n",
    "    loss = 0\n",
    "    for m in matches:\n",
    "        if m['date'][:4] == year and m['oppAtpRank'] >= 5 and m['oppAtpRank'] <= 12:\n",
    "            count = count + 1\n",
    "            rank.append(m['oppAtpRank'])\n",
    "            odds.append(m['oppOdds'])\n",
    "            if not m['won']:\n",
    "                loss = loss + 1\n",
    "\n",
    "    print('Count:', count, 'odds:', median(odds), 'Gegner rank:', median(rank), 'winrate:', loss / count)\n",
    "\n",
    "relative_strength(players[FEDERER], '2006')\n",
    "relative_strength(players[DJOKER], '2015')"
   ]
  },
  {
   "cell_type": "code",
   "execution_count": 57,
   "metadata": {
    "collapsed": false
   },
   "outputs": [
    {
     "name": "stdout",
     "output_type": "stream",
     "text": [
      "2005\n",
      "Count: 2 odds: 1.6143999999999998 Gegner rank: 9.0 winrate: 0.5\n",
      "2006\n",
      "Count: 6 odds: 1.7037 Gegner rank: 8.5 winrate: 0.6666666666666666\n",
      "2007\n",
      "Count: 5 odds: 2.358 Gegner rank: 7 winrate: 0.4\n",
      "2008\n",
      "Count: 11 odds: 2.93 Gegner rank: 8 winrate: 0.2727272727272727\n",
      "2009\n",
      "Count: 17 odds: 2.8939999999999997 Gegner rank: 9 winrate: 0.35294117647058826\n",
      "2010\n",
      "Count: 6 odds: 2.883 Gegner rank: 9.5 winrate: 0.5\n",
      "2011\n",
      "Count: 13 odds: 3.51 Gegner rank: 7 winrate: 0.23076923076923078\n",
      "2012\n",
      "Count: 19 odds: 4.89 Gegner rank: 7 winrate: 0.10526315789473684\n",
      "2013\n",
      "Count: 20 odds: 5.285 Gegner rank: 7.0 winrate: 0.1\n",
      "2014\n",
      "Count: 19 odds: 4.99 Gegner rank: 8 winrate: 0.15789473684210525\n",
      "2015\n",
      "Count: 20 odds: 6.289999999999999 Gegner rank: 7.5 winrate: 0.05\n"
     ]
    }
   ],
   "source": [
    "for i in range(2005, 2016):\n",
    "    print(i)\n",
    "    relative_strength(players[DJOKER], str(i))"
   ]
  },
  {
   "cell_type": "code",
   "execution_count": 52,
   "metadata": {
    "collapsed": false
   },
   "outputs": [
    {
     "data": {
      "text/plain": [
       "0.011764705882352941"
      ]
     },
     "execution_count": 52,
     "metadata": {},
     "output_type": "execute_result"
    }
   ],
   "source": [
    "1/85"
   ]
  },
  {
   "cell_type": "code",
   "execution_count": null,
   "metadata": {
    "collapsed": true
   },
   "outputs": [],
   "source": []
  }
 ],
 "metadata": {
  "kernelspec": {
   "display_name": "Python 3",
   "language": "python",
   "name": "python3"
  },
  "language_info": {
   "codemirror_mode": {
    "name": "ipython",
    "version": 3
   },
   "file_extension": ".py",
   "mimetype": "text/x-python",
   "name": "python",
   "nbconvert_exporter": "python",
   "pygments_lexer": "ipython3",
   "version": "3.4.3"
  }
 },
 "nbformat": 4,
 "nbformat_minor": 0
}
